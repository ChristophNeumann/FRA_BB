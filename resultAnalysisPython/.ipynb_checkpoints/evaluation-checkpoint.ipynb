{
 "cells": [
  {
   "cell_type": "code",
   "execution_count": 1,
   "metadata": {},
   "outputs": [],
   "source": [
    "import scipy.io\n",
    "import pandas as pd\n",
    "import numpy as np\n",
    "from matplotlib import pyplot as plt\n",
    "pd.set_option('display.max_rows', 200)\n",
    "import matplotlib\n",
    "font = {'size'   : 14}\n",
    "matplotlib.rc('font', **font)"
   ]
  },
  {
   "cell_type": "code",
   "execution_count": 2,
   "metadata": {},
   "outputs": [],
   "source": [
    "resultfilename = 'overall_results.xlsx'"
   ]
  },
  {
   "cell_type": "code",
   "execution_count": 3,
   "metadata": {},
   "outputs": [],
   "source": [
    "res_MC = pd.read_excel(resultfilename,index_col=0)\n",
    "info_opt = pd.read_excel('collection.xlsx', index_col=0)\n",
    "num_list = []\n",
    "for elem in info_opt.loc[res_MC.index]['Objective  Obj.']:\n",
    "    if isinstance(elem,str):\n",
    "        elem = elem.replace('*','')\n",
    "        if elem == 'Infeasible':\n",
    "            elem = np.inf\n",
    "        elem = float(elem)\n",
    "    num_list.append(elem)"
   ]
  },
  {
   "cell_type": "code",
   "execution_count": 4,
   "metadata": {},
   "outputs": [],
   "source": [
    "res_MC['v_star'] = num_list\n",
    "res_MC['status'] = info_opt.loc[res_MC.index]['Status  Sta.']"
   ]
  },
  {
   "cell_type": "markdown",
   "metadata": {},
   "source": [
    "## Analysis of greedy vs random diving"
   ]
  },
  {
   "cell_type": "code",
   "execution_count": 5,
   "metadata": {},
   "outputs": [],
   "source": [
    "compAnyGranDiving = res_MC.loc[(~res_MC.granular)&(res_MC.RANDOMgranular|res_MC.MCgranular)]"
   ]
  },
  {
   "cell_type": "code",
   "execution_count": 6,
   "metadata": {},
   "outputs": [],
   "source": [
    "compBothGranDiving = res_MC.loc[(~res_MC.granular)&(res_MC.RANDOMgranular)&res_MC.MCgranular]"
   ]
  },
  {
   "cell_type": "code",
   "execution_count": 7,
   "metadata": {},
   "outputs": [
    {
     "name": "stdout",
     "output_type": "stream",
     "text": [
      "In 27 cases, we obtain a granular node using greedy diving and in 29 cases using random diving\n"
     ]
    }
   ],
   "source": [
    "print('In %i cases, we obtain a granular node using greedy diving and in %i cases using random diving'\n",
    "      %(sum(compAnyGranDiving.MCgranular),sum(compAnyGranDiving.RANDOMgranular)))"
   ]
  },
  {
   "cell_type": "code",
   "execution_count": 8,
   "metadata": {},
   "outputs": [
    {
     "name": "stdout",
     "output_type": "stream",
     "text": [
      "In 25 cases, both methods were able to find a granular node\n"
     ]
    }
   ],
   "source": [
    "print('In %i cases, both methods were able to find a granular node'%len(compBothGranDiving))"
   ]
  },
  {
   "cell_type": "markdown",
   "metadata": {},
   "source": [
    "Let us investigate probems for which both methods find a granular node"
   ]
  },
  {
   "cell_type": "code",
   "execution_count": 9,
   "metadata": {},
   "outputs": [
    {
     "data": {
      "image/png": "[encoded data removed]",
      "text/plain": [
       "<Figure size 432x288 with 1 Axes>"
      ]
     },
     "metadata": {
      "needs_background": "light"
     },
     "output_type": "display_data"
    }
   ],
   "source": [
    "compGranDiving = res_MC.loc[(~res_MC.granular)&(res_MC.RANDOMgranular)&res_MC.MCgranular][['MCiterF','RANDOMiterF']] -1\n",
    "compGranDiving.columns = ['greedy','random']\n",
    "compGranDiving.plot(kind='box',grid=False, color=dict(boxes='grey', whiskers='grey', medians='black', caps='black'))\n",
    "plt.savefig('boxplot.pdf')"
   ]
  },
  {
   "cell_type": "code",
   "execution_count": 10,
   "metadata": {},
   "outputs": [
    {
     "name": "stdout",
     "output_type": "stream",
     "text": [
      "Greedy is needs less iterations in 16 cases, equal in 7 cases and more 2 cases than random diving\n"
     ]
    }
   ],
   "source": [
    "print('Greedy is needs less iterations in %i cases, equal in %i cases and more %i cases than random diving'%\n",
    "      (sum(compGranDiving.greedy<compGranDiving.random),sum(compGranDiving.greedy==compGranDiving.random),\n",
    "       sum(compGranDiving.greedy>compGranDiving.random)))"
   ]
  },
  {
   "cell_type": "code",
   "execution_count": 11,
   "metadata": {},
   "outputs": [
    {
     "data": {
      "text/html": [
       "<div>\n",
       "<style scoped>\n",
       "    .dataframe tbody tr th:only-of-type {\n",
       "        vertical-align: middle;\n",
       "    }\n",
       "\n",
       "    .dataframe tbody tr th {\n",
       "        vertical-align: top;\n",
       "    }\n",
       "\n",
       "    .dataframe thead th {\n",
       "        text-align: right;\n",
       "    }\n",
       "</style>\n",
       "<table border=\"1\" class=\"dataframe\">\n",
       "  <thead>\n",
       "    <tr style=\"text-align: right;\">\n",
       "      <th></th>\n",
       "      <th>greedy</th>\n",
       "      <th>random</th>\n",
       "    </tr>\n",
       "  </thead>\n",
       "  <tbody>\n",
       "    <tr>\n",
       "      <th>count</th>\n",
       "      <td>25.000000</td>\n",
       "      <td>25.000000</td>\n",
       "    </tr>\n",
       "    <tr>\n",
       "      <th>mean</th>\n",
       "      <td>12.920000</td>\n",
       "      <td>20.400000</td>\n",
       "    </tr>\n",
       "    <tr>\n",
       "      <th>std</th>\n",
       "      <td>10.339729</td>\n",
       "      <td>9.486833</td>\n",
       "    </tr>\n",
       "    <tr>\n",
       "      <th>min</th>\n",
       "      <td>1.000000</td>\n",
       "      <td>1.000000</td>\n",
       "    </tr>\n",
       "    <tr>\n",
       "      <th>25%</th>\n",
       "      <td>4.000000</td>\n",
       "      <td>15.000000</td>\n",
       "    </tr>\n",
       "    <tr>\n",
       "      <th>50%</th>\n",
       "      <td>9.000000</td>\n",
       "      <td>21.000000</td>\n",
       "    </tr>\n",
       "    <tr>\n",
       "      <th>75%</th>\n",
       "      <td>22.000000</td>\n",
       "      <td>29.000000</td>\n",
       "    </tr>\n",
       "    <tr>\n",
       "      <th>max</th>\n",
       "      <td>30.000000</td>\n",
       "      <td>30.000000</td>\n",
       "    </tr>\n",
       "  </tbody>\n",
       "</table>\n",
       "</div>"
      ],
      "text/plain": [
       "          greedy     random\n",
       "count  25.000000  25.000000\n",
       "mean   12.920000  20.400000\n",
       "std    10.339729   9.486833\n",
       "min     1.000000   1.000000\n",
       "25%     4.000000  15.000000\n",
       "50%     9.000000  21.000000\n",
       "75%    22.000000  29.000000\n",
       "max    30.000000  30.000000"
      ]
     },
     "execution_count": 11,
     "metadata": {},
     "output_type": "execute_result"
    }
   ],
   "source": [
    "compGranDiving.describe()"
   ]
  },
  {
   "cell_type": "code",
   "execution_count": 12,
   "metadata": {},
   "outputs": [],
   "source": [
    "compGranDivingObj = res_MC.loc[(~res_MC.granular)&(res_MC.RANDOMgranular)&res_MC.MCgranular][['MCobj','RANDOMobj']]"
   ]
  },
  {
   "cell_type": "code",
   "execution_count": 13,
   "metadata": {},
   "outputs": [
    {
     "data": {
      "text/plain": [
       "3"
      ]
     },
     "execution_count": 13,
     "metadata": {},
     "output_type": "execute_result"
    }
   ],
   "source": [
    "sum(compGranDivingObj.MCobj==compGranDivingObj.RANDOMobj)"
   ]
  },
  {
   "cell_type": "code",
   "execution_count": 14,
   "metadata": {},
   "outputs": [],
   "source": [
    "columns = ['granular','v0','MCgranular','MCobj','MCiterF','RANDOMgranular','RANDOMobj','RANDOMiterF']"
   ]
  },
  {
   "cell_type": "code",
   "execution_count": 15,
   "metadata": {},
   "outputs": [],
   "source": [
    "only_node_gran = ~res_MC.granular&(res_MC.RANDOMgranular|res_MC.MCgranular)\n",
    "any_gran = res_MC.RANDOMgranular|res_MC.MCgranular"
   ]
  },
  {
   "cell_type": "code",
   "execution_count": 16,
   "metadata": {},
   "outputs": [
    {
     "data": {
      "text/html": [
       "<div>\n",
       "<style scoped>\n",
       "    .dataframe tbody tr th:only-of-type {\n",
       "        vertical-align: middle;\n",
       "    }\n",
       "\n",
       "    .dataframe tbody tr th {\n",
       "        vertical-align: top;\n",
       "    }\n",
       "\n",
       "    .dataframe thead th {\n",
       "        text-align: right;\n",
       "    }\n",
       "</style>\n",
       "<table border=\"1\" class=\"dataframe\">\n",
       "  <thead>\n",
       "    <tr style=\"text-align: right;\">\n",
       "      <th></th>\n",
       "      <th>granular</th>\n",
       "      <th>v0</th>\n",
       "      <th>MCgranular</th>\n",
       "      <th>MCobj</th>\n",
       "      <th>MCiterF</th>\n",
       "      <th>RANDOMgranular</th>\n",
       "      <th>RANDOMobj</th>\n",
       "      <th>RANDOMiterF</th>\n",
       "    </tr>\n",
       "    <tr>\n",
       "      <th>name</th>\n",
       "      <th></th>\n",
       "      <th></th>\n",
       "      <th></th>\n",
       "      <th></th>\n",
       "      <th></th>\n",
       "      <th></th>\n",
       "      <th></th>\n",
       "      <th></th>\n",
       "    </tr>\n",
       "  </thead>\n",
       "  <tbody>\n",
       "    <tr>\n",
       "      <th>CMS750_4</th>\n",
       "      <td>False</td>\n",
       "      <td>inf</td>\n",
       "      <td>True</td>\n",
       "      <td>7.790000e+02</td>\n",
       "      <td>5</td>\n",
       "      <td>False</td>\n",
       "      <td>inf</td>\n",
       "      <td>31</td>\n",
       "    </tr>\n",
       "    <tr>\n",
       "      <th>app3</th>\n",
       "      <td>False</td>\n",
       "      <td>inf</td>\n",
       "      <td>False</td>\n",
       "      <td>inf</td>\n",
       "      <td>26</td>\n",
       "      <td>True</td>\n",
       "      <td>6.449642e+06</td>\n",
       "      <td>26</td>\n",
       "    </tr>\n",
       "    <tr>\n",
       "      <th>australia-abs-cta</th>\n",
       "      <td>False</td>\n",
       "      <td>inf</td>\n",
       "      <td>True</td>\n",
       "      <td>4.562224e+03</td>\n",
       "      <td>31</td>\n",
       "      <td>True</td>\n",
       "      <td>9.854344e+03</td>\n",
       "      <td>31</td>\n",
       "    </tr>\n",
       "    <tr>\n",
       "      <th>beasleyC3</th>\n",
       "      <td>False</td>\n",
       "      <td>6.844000e+03</td>\n",
       "      <td>True</td>\n",
       "      <td>9.640000e+02</td>\n",
       "      <td>2</td>\n",
       "      <td>True</td>\n",
       "      <td>4.710000e+03</td>\n",
       "      <td>21</td>\n",
       "    </tr>\n",
       "    <tr>\n",
       "      <th>berlin_5_8_0</th>\n",
       "      <td>False</td>\n",
       "      <td>inf</td>\n",
       "      <td>True</td>\n",
       "      <td>9.500000e+01</td>\n",
       "      <td>5</td>\n",
       "      <td>True</td>\n",
       "      <td>9.200000e+01</td>\n",
       "      <td>16</td>\n",
       "    </tr>\n",
       "    <tr>\n",
       "      <th>bmoipr2</th>\n",
       "      <td>False</td>\n",
       "      <td>3.833155e+11</td>\n",
       "      <td>True</td>\n",
       "      <td>1.081185e+11</td>\n",
       "      <td>21</td>\n",
       "      <td>True</td>\n",
       "      <td>1.642987e+11</td>\n",
       "      <td>31</td>\n",
       "    </tr>\n",
       "    <tr>\n",
       "      <th>core2536-691</th>\n",
       "      <td>False</td>\n",
       "      <td>inf</td>\n",
       "      <td>False</td>\n",
       "      <td>inf</td>\n",
       "      <td>31</td>\n",
       "      <td>True</td>\n",
       "      <td>7.101000e+03</td>\n",
       "      <td>10</td>\n",
       "    </tr>\n",
       "    <tr>\n",
       "      <th>dale-cta</th>\n",
       "      <td>False</td>\n",
       "      <td>inf</td>\n",
       "      <td>True</td>\n",
       "      <td>5.842178e+02</td>\n",
       "      <td>31</td>\n",
       "      <td>True</td>\n",
       "      <td>5.842178e+02</td>\n",
       "      <td>31</td>\n",
       "    </tr>\n",
       "    <tr>\n",
       "      <th>in</th>\n",
       "      <td>False</td>\n",
       "      <td>inf</td>\n",
       "      <td>True</td>\n",
       "      <td>4.500000e+02</td>\n",
       "      <td>10</td>\n",
       "      <td>True</td>\n",
       "      <td>1.489000e+03</td>\n",
       "      <td>31</td>\n",
       "    </tr>\n",
       "    <tr>\n",
       "      <th>istanbul-no-cutoff</th>\n",
       "      <td>False</td>\n",
       "      <td>3.303227e+02</td>\n",
       "      <td>True</td>\n",
       "      <td>3.303227e+02</td>\n",
       "      <td>26</td>\n",
       "      <td>True</td>\n",
       "      <td>3.303227e+02</td>\n",
       "      <td>31</td>\n",
       "    </tr>\n",
       "    <tr>\n",
       "      <th>neos-1171737</th>\n",
       "      <td>False</td>\n",
       "      <td>inf</td>\n",
       "      <td>True</td>\n",
       "      <td>-6.300000e+01</td>\n",
       "      <td>26</td>\n",
       "      <td>True</td>\n",
       "      <td>-3.400000e+01</td>\n",
       "      <td>31</td>\n",
       "    </tr>\n",
       "    <tr>\n",
       "      <th>neos-1430701</th>\n",
       "      <td>False</td>\n",
       "      <td>0.000000e+00</td>\n",
       "      <td>True</td>\n",
       "      <td>-4.200000e+01</td>\n",
       "      <td>13</td>\n",
       "      <td>True</td>\n",
       "      <td>-1.800000e+01</td>\n",
       "      <td>26</td>\n",
       "    </tr>\n",
       "    <tr>\n",
       "      <th>neos-1442119</th>\n",
       "      <td>False</td>\n",
       "      <td>0.000000e+00</td>\n",
       "      <td>True</td>\n",
       "      <td>-9.800000e+01</td>\n",
       "      <td>14</td>\n",
       "      <td>True</td>\n",
       "      <td>-5.400000e+01</td>\n",
       "      <td>28</td>\n",
       "    </tr>\n",
       "    <tr>\n",
       "      <th>neos-2987310-joes</th>\n",
       "      <td>False</td>\n",
       "      <td>inf</td>\n",
       "      <td>True</td>\n",
       "      <td>-2.228623e+05</td>\n",
       "      <td>31</td>\n",
       "      <td>False</td>\n",
       "      <td>inf</td>\n",
       "      <td>31</td>\n",
       "    </tr>\n",
       "    <tr>\n",
       "      <th>neos-3072252-nete</th>\n",
       "      <td>False</td>\n",
       "      <td>2.418336e+07</td>\n",
       "      <td>True</td>\n",
       "      <td>2.337167e+07</td>\n",
       "      <td>28</td>\n",
       "      <td>True</td>\n",
       "      <td>1.372333e+07</td>\n",
       "      <td>28</td>\n",
       "    </tr>\n",
       "    <tr>\n",
       "      <th>neos-4290317-perth</th>\n",
       "      <td>False</td>\n",
       "      <td>inf</td>\n",
       "      <td>True</td>\n",
       "      <td>3.278582e+06</td>\n",
       "      <td>2</td>\n",
       "      <td>True</td>\n",
       "      <td>3.912559e+06</td>\n",
       "      <td>19</td>\n",
       "    </tr>\n",
       "    <tr>\n",
       "      <th>neos-4954672-berkel</th>\n",
       "      <td>False</td>\n",
       "      <td>1.851780e+07</td>\n",
       "      <td>True</td>\n",
       "      <td>9.962581e+06</td>\n",
       "      <td>3</td>\n",
       "      <td>True</td>\n",
       "      <td>8.110833e+06</td>\n",
       "      <td>29</td>\n",
       "    </tr>\n",
       "    <tr>\n",
       "      <th>neos-5076235-embley</th>\n",
       "      <td>False</td>\n",
       "      <td>inf</td>\n",
       "      <td>False</td>\n",
       "      <td>inf</td>\n",
       "      <td>26</td>\n",
       "      <td>True</td>\n",
       "      <td>3.232000e+03</td>\n",
       "      <td>24</td>\n",
       "    </tr>\n",
       "    <tr>\n",
       "      <th>neos-5079731-flyers</th>\n",
       "      <td>False</td>\n",
       "      <td>inf</td>\n",
       "      <td>True</td>\n",
       "      <td>3.102000e+03</td>\n",
       "      <td>23</td>\n",
       "      <td>True</td>\n",
       "      <td>3.476000e+03</td>\n",
       "      <td>26</td>\n",
       "    </tr>\n",
       "    <tr>\n",
       "      <th>neos-5192052-neckar</th>\n",
       "      <td>False</td>\n",
       "      <td>-1.100000e+06</td>\n",
       "      <td>True</td>\n",
       "      <td>-9.030000e+06</td>\n",
       "      <td>3</td>\n",
       "      <td>True</td>\n",
       "      <td>-1.128000e+07</td>\n",
       "      <td>7</td>\n",
       "    </tr>\n",
       "    <tr>\n",
       "      <th>neos-565672</th>\n",
       "      <td>False</td>\n",
       "      <td>3.467701e+12</td>\n",
       "      <td>True</td>\n",
       "      <td>6.493109e+11</td>\n",
       "      <td>2</td>\n",
       "      <td>True</td>\n",
       "      <td>6.191394e+11</td>\n",
       "      <td>2</td>\n",
       "    </tr>\n",
       "    <tr>\n",
       "      <th>neos-885086</th>\n",
       "      <td>False</td>\n",
       "      <td>inf</td>\n",
       "      <td>False</td>\n",
       "      <td>inf</td>\n",
       "      <td>31</td>\n",
       "      <td>True</td>\n",
       "      <td>-3.400000e+01</td>\n",
       "      <td>31</td>\n",
       "    </tr>\n",
       "    <tr>\n",
       "      <th>neos22</th>\n",
       "      <td>False</td>\n",
       "      <td>inf</td>\n",
       "      <td>True</td>\n",
       "      <td>9.396844e+05</td>\n",
       "      <td>30</td>\n",
       "      <td>True</td>\n",
       "      <td>1.188644e+06</td>\n",
       "      <td>30</td>\n",
       "    </tr>\n",
       "    <tr>\n",
       "      <th>nexp-50-20-1-1</th>\n",
       "      <td>False</td>\n",
       "      <td>inf</td>\n",
       "      <td>True</td>\n",
       "      <td>6.800000e+01</td>\n",
       "      <td>9</td>\n",
       "      <td>True</td>\n",
       "      <td>5.800000e+01</td>\n",
       "      <td>7</td>\n",
       "    </tr>\n",
       "    <tr>\n",
       "      <th>nexp-50-20-4-2</th>\n",
       "      <td>False</td>\n",
       "      <td>inf</td>\n",
       "      <td>True</td>\n",
       "      <td>3.400000e+02</td>\n",
       "      <td>6</td>\n",
       "      <td>True</td>\n",
       "      <td>7.390000e+02</td>\n",
       "      <td>10</td>\n",
       "    </tr>\n",
       "    <tr>\n",
       "      <th>osorio-cta</th>\n",
       "      <td>False</td>\n",
       "      <td>inf</td>\n",
       "      <td>True</td>\n",
       "      <td>3.784357e-02</td>\n",
       "      <td>8</td>\n",
       "      <td>True</td>\n",
       "      <td>3.784357e-02</td>\n",
       "      <td>8</td>\n",
       "    </tr>\n",
       "    <tr>\n",
       "      <th>railway_8_1_0</th>\n",
       "      <td>False</td>\n",
       "      <td>inf</td>\n",
       "      <td>True</td>\n",
       "      <td>4.820000e+02</td>\n",
       "      <td>6</td>\n",
       "      <td>True</td>\n",
       "      <td>4.860000e+02</td>\n",
       "      <td>21</td>\n",
       "    </tr>\n",
       "    <tr>\n",
       "      <th>snip10x10-35r1budget17</th>\n",
       "      <td>False</td>\n",
       "      <td>2.700000e+02</td>\n",
       "      <td>True</td>\n",
       "      <td>2.238794e+02</td>\n",
       "      <td>16</td>\n",
       "      <td>True</td>\n",
       "      <td>1.647638e+02</td>\n",
       "      <td>22</td>\n",
       "    </tr>\n",
       "    <tr>\n",
       "      <th>supportcase12</th>\n",
       "      <td>False</td>\n",
       "      <td>inf</td>\n",
       "      <td>True</td>\n",
       "      <td>-5.235655e+03</td>\n",
       "      <td>20</td>\n",
       "      <td>True</td>\n",
       "      <td>-7.239600e+03</td>\n",
       "      <td>20</td>\n",
       "    </tr>\n",
       "    <tr>\n",
       "      <th>tr12-30</th>\n",
       "      <td>False</td>\n",
       "      <td>inf</td>\n",
       "      <td>True</td>\n",
       "      <td>1.966140e+05</td>\n",
       "      <td>8</td>\n",
       "      <td>True</td>\n",
       "      <td>1.857229e+05</td>\n",
       "      <td>7</td>\n",
       "    </tr>\n",
       "    <tr>\n",
       "      <th>usAbbrv-8-25_70</th>\n",
       "      <td>False</td>\n",
       "      <td>inf</td>\n",
       "      <td>True</td>\n",
       "      <td>2.000000e+02</td>\n",
       "      <td>5</td>\n",
       "      <td>True</td>\n",
       "      <td>1.930000e+02</td>\n",
       "      <td>22</td>\n",
       "    </tr>\n",
       "  </tbody>\n",
       "</table>\n",
       "</div>"
      ],
      "text/plain": [
       "                        granular            v0  MCgranular         MCobj  \\\n",
       "name                                                                       \n",
       "CMS750_4                   False           inf        True  7.790000e+02   \n",
       "app3                       False           inf       False           inf   \n",
       "australia-abs-cta          False           inf        True  4.562224e+03   \n",
       "beasleyC3                  False  6.844000e+03        True  9.640000e+02   \n",
       "berlin_5_8_0               False           inf        True  9.500000e+01   \n",
       "bmoipr2                    False  3.833155e+11        True  1.081185e+11   \n",
       "core2536-691               False           inf       False           inf   \n",
       "dale-cta                   False           inf        True  5.842178e+02   \n",
       "in                         False           inf        True  4.500000e+02   \n",
       "istanbul-no-cutoff         False  3.303227e+02        True  3.303227e+02   \n",
       "neos-1171737               False           inf        True -6.300000e+01   \n",
       "neos-1430701               False  0.000000e+00        True -4.200000e+01   \n",
       "neos-1442119               False  0.000000e+00        True -9.800000e+01   \n",
       "neos-2987310-joes          False           inf        True -2.228623e+05   \n",
       "neos-3072252-nete          False  2.418336e+07        True  2.337167e+07   \n",
       "neos-4290317-perth         False           inf        True  3.278582e+06   \n",
       "neos-4954672-berkel        False  1.851780e+07        True  9.962581e+06   \n",
       "neos-5076235-embley        False           inf       False           inf   \n",
       "neos-5079731-flyers        False           inf        True  3.102000e+03   \n",
       "neos-5192052-neckar        False -1.100000e+06        True -9.030000e+06   \n",
       "neos-565672                False  3.467701e+12        True  6.493109e+11   \n",
       "neos-885086                False           inf       False           inf   \n",
       "neos22                     False           inf        True  9.396844e+05   \n",
       "nexp-50-20-1-1             False           inf        True  6.800000e+01   \n",
       "nexp-50-20-4-2             False           inf        True  3.400000e+02   \n",
       "osorio-cta                 False           inf        True  3.784357e-02   \n",
       "railway_8_1_0              False           inf        True  4.820000e+02   \n",
       "snip10x10-35r1budget17     False  2.700000e+02        True  2.238794e+02   \n",
       "supportcase12              False           inf        True -5.235655e+03   \n",
       "tr12-30                    False           inf        True  1.966140e+05   \n",
       "usAbbrv-8-25_70            False           inf        True  2.000000e+02   \n",
       "\n",
       "                        MCiterF  RANDOMgranular     RANDOMobj  RANDOMiterF  \n",
       "name                                                                        \n",
       "CMS750_4                      5           False           inf           31  \n",
       "app3                         26            True  6.449642e+06           26  \n",
       "australia-abs-cta            31            True  9.854344e+03           31  \n",
       "beasleyC3                     2            True  4.710000e+03           21  \n",
       "berlin_5_8_0                  5            True  9.200000e+01           16  \n",
       "bmoipr2                      21            True  1.642987e+11           31  \n",
       "core2536-691                 31            True  7.101000e+03           10  \n",
       "dale-cta                     31            True  5.842178e+02           31  \n",
       "in                           10            True  1.489000e+03           31  \n",
       "istanbul-no-cutoff           26            True  3.303227e+02           31  \n",
       "neos-1171737                 26            True -3.400000e+01           31  \n",
       "neos-1430701                 13            True -1.800000e+01           26  \n",
       "neos-1442119                 14            True -5.400000e+01           28  \n",
       "neos-2987310-joes            31           False           inf           31  \n",
       "neos-3072252-nete            28            True  1.372333e+07           28  \n",
       "neos-4290317-perth            2            True  3.912559e+06           19  \n",
       "neos-4954672-berkel           3            True  8.110833e+06           29  \n",
       "neos-5076235-embley          26            True  3.232000e+03           24  \n",
       "neos-5079731-flyers          23            True  3.476000e+03           26  \n",
       "neos-5192052-neckar           3            True -1.128000e+07            7  \n",
       "neos-565672                   2            True  6.191394e+11            2  \n",
       "neos-885086                  31            True -3.400000e+01           31  \n",
       "neos22                       30            True  1.188644e+06           30  \n",
       "nexp-50-20-1-1                9            True  5.800000e+01            7  \n",
       "nexp-50-20-4-2                6            True  7.390000e+02           10  \n",
       "osorio-cta                    8            True  3.784357e-02            8  \n",
       "railway_8_1_0                 6            True  4.860000e+02           21  \n",
       "snip10x10-35r1budget17       16            True  1.647638e+02           22  \n",
       "supportcase12                20            True -7.239600e+03           20  \n",
       "tr12-30                       8            True  1.857229e+05            7  \n",
       "usAbbrv-8-25_70               5            True  1.930000e+02           22  "
      ]
     },
     "execution_count": 16,
     "metadata": {},
     "output_type": "execute_result"
    }
   ],
   "source": [
    "res_MC[only_node_gran][columns]"
   ]
  },
  {
   "cell_type": "markdown",
   "metadata": {},
   "source": [
    "## Analysis of basic properties of our study"
   ]
  },
  {
   "cell_type": "markdown",
   "metadata": {},
   "source": [
    "Number of problems where we can use granularity"
   ]
  },
  {
   "cell_type": "code",
   "execution_count": 17,
   "metadata": {},
   "outputs": [],
   "source": [
    "res_MC = res_MC[res_MC.v_star<np.inf]"
   ]
  },
  {
   "cell_type": "code",
   "execution_count": 18,
   "metadata": {},
   "outputs": [
    {
     "name": "stdout",
     "output_type": "stream",
     "text": [
      "Testbed consists of 286 problems, out of which are 136 granular.\n",
      "We get feasible points in the root node for 148 problems\n",
      "Using diving heuristics, we can prove granularity in some nodes for 167 problems\n",
      "and get feasible points for 169 problems\n",
      "With random diving we observed 165 and MC-diving 163 granular nodes\n",
      "For 161 problems, both diving heuristics found feasible points\n"
     ]
    }
   ],
   "source": [
    "print('Testbed consists of %i problems, out of which are %i granular.'%(len(res_MC),sum(res_MC.granular)))\n",
    "print('We get feasible points in the root node for %i problems'%sum(res_MC.v0<np.inf))\n",
    "print('Using diving heuristics, we can prove granularity in some nodes for %i problems'%sum(res_MC.MCgranular | res_MC.RANDOMgranular))\n",
    "print('and get feasible points for %i problems'%sum((res_MC.MCobj<np.inf) | (res_MC.RANDOMobj<np.inf)))\n",
    "print('With random diving we observed %i and MC-diving %i granular nodes'%(sum(res_MC.RANDOMgranular), sum(res_MC.MCgranular)))\n",
    "print('For %i problems, both diving heuristics found feasible points'%sum(res_MC.MCgranular & res_MC.RANDOMgranular))"
   ]
  },
  {
   "cell_type": "markdown",
   "metadata": {},
   "source": [
    "Share of root granular problems:"
   ]
  },
  {
   "cell_type": "code",
   "execution_count": 19,
   "metadata": {},
   "outputs": [
    {
     "data": {
      "text/plain": [
       "0.4755244755244755"
      ]
     },
     "execution_count": 19,
     "metadata": {},
     "output_type": "execute_result"
    }
   ],
   "source": [
    "sum(res_MC.granular)/len(res_MC)"
   ]
  },
  {
   "cell_type": "markdown",
   "metadata": {},
   "source": [
    "Share of node granular problems:"
   ]
  },
  {
   "cell_type": "code",
   "execution_count": 20,
   "metadata": {},
   "outputs": [
    {
     "data": {
      "text/plain": [
       "0.583916083916084"
      ]
     },
     "execution_count": 20,
     "metadata": {},
     "output_type": "execute_result"
    }
   ],
   "source": [
    "sum(res_MC.MCgranular | res_MC.RANDOMgranular)/len(res_MC)"
   ]
  },
  {
   "cell_type": "code",
   "execution_count": 21,
   "metadata": {},
   "outputs": [],
   "source": [
    "res_MC['MCiterF'] = res_MC['MCiterF'] - 1\n",
    "res_MC['RANDOMiterF'] = res_MC['RANDOMiterF'] - 1"
   ]
  },
  {
   "cell_type": "code",
   "execution_count": 23,
   "metadata": {},
   "outputs": [
    {
     "data": {
      "text/plain": [
       "167"
      ]
     },
     "execution_count": 23,
     "metadata": {},
     "output_type": "execute_result"
    }
   ],
   "source": [
    "len(res_MC[res_MC.RANDOMgranular | res_MC.MCgranular])"
   ]
  },
  {
   "cell_type": "markdown",
   "metadata": {},
   "source": [
    "The following command prints the table for the appendix"
   ]
  },
  {
   "cell_type": "code",
   "execution_count": null,
   "metadata": {},
   "outputs": [],
   "source": [
    "print(res_MC[res_MC.RANDOMgranular | res_MC.MCgranular][['granular','MCgranular','RANDOMgranular',\n",
    "                                                           'v0','MCobj','RANDOMobj','v_star',\n",
    "                                                          'MCiterF','RANDOMiterF']].to_latex(float_format = '%.1f', longtable = True))"
   ]
  },
  {
   "cell_type": "markdown",
   "metadata": {},
   "source": [
    "objective values: "
   ]
  },
  {
   "cell_type": "code",
   "execution_count": 24,
   "metadata": {},
   "outputs": [],
   "source": [
    "res_any_gran = res_MC[res_MC.RANDOMgranular | res_MC.MCgranular]"
   ]
  },
  {
   "cell_type": "code",
   "execution_count": 25,
   "metadata": {},
   "outputs": [
    {
     "name": "stdout",
     "output_type": "stream",
     "text": [
      "Number of problems where MC is better than RA 76, worse than RA 68, same as RA 23\n"
     ]
    }
   ],
   "source": [
    "print('Number of problems where MC is better than RA %i, worse than RA %i, same as RA %i'%(sum(res_any_gran.MCobj<res_any_gran.RANDOMobj),sum(res_any_gran.MCobj>res_any_gran.RANDOMobj),sum(res_any_gran.MCobj==res_any_gran.RANDOMobj)))"
   ]
  },
  {
   "cell_type": "markdown",
   "metadata": {},
   "source": [
    "Not inlcuded in paper: A comparison with Gurobi"
   ]
  },
  {
   "cell_type": "code",
   "execution_count": 27,
   "metadata": {},
   "outputs": [
    {
     "data": {
      "text/html": [
       "<div>\n",
       "<style scoped>\n",
       "    .dataframe tbody tr th:only-of-type {\n",
       "        vertical-align: middle;\n",
       "    }\n",
       "\n",
       "    .dataframe tbody tr th {\n",
       "        vertical-align: top;\n",
       "    }\n",
       "\n",
       "    .dataframe thead th {\n",
       "        text-align: right;\n",
       "    }\n",
       "</style>\n",
       "<table border=\"1\" class=\"dataframe\">\n",
       "  <thead>\n",
       "    <tr style=\"text-align: right;\">\n",
       "      <th></th>\n",
       "      <th>granular</th>\n",
       "      <th>MCgranular</th>\n",
       "      <th>RANDOMgranular</th>\n",
       "      <th>v0</th>\n",
       "      <th>MCobj</th>\n",
       "      <th>RANDOMobj</th>\n",
       "      <th>v_star</th>\n",
       "      <th>MCtime</th>\n",
       "      <th>MCtimeGurobi</th>\n",
       "    </tr>\n",
       "    <tr>\n",
       "      <th>name</th>\n",
       "      <th></th>\n",
       "      <th></th>\n",
       "      <th></th>\n",
       "      <th></th>\n",
       "      <th></th>\n",
       "      <th></th>\n",
       "      <th></th>\n",
       "      <th></th>\n",
       "      <th></th>\n",
       "    </tr>\n",
       "  </thead>\n",
       "  <tbody>\n",
       "    <tr>\n",
       "      <th>bmocbd3</th>\n",
       "      <td>True</td>\n",
       "      <td>True</td>\n",
       "      <td>True</td>\n",
       "      <td>2.486594e+13</td>\n",
       "      <td>4.905783e+10</td>\n",
       "      <td>6.128892e+10</td>\n",
       "      <td>-3.729867e+08</td>\n",
       "      <td>504.829239</td>\n",
       "      <td>343.815561</td>\n",
       "    </tr>\n",
       "    <tr>\n",
       "      <th>buildingenergy</th>\n",
       "      <td>True</td>\n",
       "      <td>True</td>\n",
       "      <td>True</td>\n",
       "      <td>3.430567e+04</td>\n",
       "      <td>3.419647e+04</td>\n",
       "      <td>3.419724e+04</td>\n",
       "      <td>3.328385e+04</td>\n",
       "      <td>107.472898</td>\n",
       "      <td>935.518436</td>\n",
       "    </tr>\n",
       "    <tr>\n",
       "      <th>cdc7-4-3-2</th>\n",
       "      <td>True</td>\n",
       "      <td>True</td>\n",
       "      <td>True</td>\n",
       "      <td>-1.000000e+00</td>\n",
       "      <td>-1.270000e+02</td>\n",
       "      <td>-1.280000e+02</td>\n",
       "      <td>-2.890000e+02</td>\n",
       "      <td>1892.606068</td>\n",
       "      <td>1800.000000</td>\n",
       "    </tr>\n",
       "    <tr>\n",
       "      <th>in</th>\n",
       "      <td>False</td>\n",
       "      <td>True</td>\n",
       "      <td>True</td>\n",
       "      <td>inf</td>\n",
       "      <td>4.500000e+02</td>\n",
       "      <td>1.489000e+03</td>\n",
       "      <td>5.800000e+01</td>\n",
       "      <td>482.967552</td>\n",
       "      <td>1800.000000</td>\n",
       "    </tr>\n",
       "    <tr>\n",
       "      <th>neos-872648</th>\n",
       "      <td>True</td>\n",
       "      <td>True</td>\n",
       "      <td>True</td>\n",
       "      <td>5.257359e+01</td>\n",
       "      <td>5.257359e+01</td>\n",
       "      <td>4.877537e+01</td>\n",
       "      <td>4.860791e+01</td>\n",
       "      <td>27.817720</td>\n",
       "      <td>187.919062</td>\n",
       "    </tr>\n",
       "    <tr>\n",
       "      <th>neos-873061</th>\n",
       "      <td>True</td>\n",
       "      <td>True</td>\n",
       "      <td>True</td>\n",
       "      <td>1.524302e+02</td>\n",
       "      <td>1.524302e+02</td>\n",
       "      <td>1.459778e+02</td>\n",
       "      <td>1.136562e+02</td>\n",
       "      <td>26.675957</td>\n",
       "      <td>179.521740</td>\n",
       "    </tr>\n",
       "    <tr>\n",
       "      <th>opm2-z10-s4</th>\n",
       "      <td>True</td>\n",
       "      <td>True</td>\n",
       "      <td>True</td>\n",
       "      <td>-1.489000e+03</td>\n",
       "      <td>-3.122000e+03</td>\n",
       "      <td>-2.983000e+03</td>\n",
       "      <td>-3.326900e+04</td>\n",
       "      <td>94.154379</td>\n",
       "      <td>613.549477</td>\n",
       "    </tr>\n",
       "    <tr>\n",
       "      <th>opm2-z12-s8</th>\n",
       "      <td>True</td>\n",
       "      <td>True</td>\n",
       "      <td>True</td>\n",
       "      <td>-1.678000e+03</td>\n",
       "      <td>-7.231000e+03</td>\n",
       "      <td>-3.536000e+03</td>\n",
       "      <td>-5.854000e+04</td>\n",
       "      <td>370.097822</td>\n",
       "      <td>1800.000000</td>\n",
       "    </tr>\n",
       "    <tr>\n",
       "      <th>opm2-z8-s0</th>\n",
       "      <td>True</td>\n",
       "      <td>True</td>\n",
       "      <td>True</td>\n",
       "      <td>-2.220000e+03</td>\n",
       "      <td>-5.443000e+03</td>\n",
       "      <td>-3.066000e+03</td>\n",
       "      <td>-1.577500e+04</td>\n",
       "      <td>20.710560</td>\n",
       "      <td>138.420113</td>\n",
       "    </tr>\n",
       "    <tr>\n",
       "      <th>ramos3</th>\n",
       "      <td>True</td>\n",
       "      <td>True</td>\n",
       "      <td>True</td>\n",
       "      <td>1.087000e+03</td>\n",
       "      <td>5.580000e+02</td>\n",
       "      <td>6.300000e+02</td>\n",
       "      <td>1.920000e+02</td>\n",
       "      <td>266.022926</td>\n",
       "      <td>211.433069</td>\n",
       "    </tr>\n",
       "    <tr>\n",
       "      <th>scpk4</th>\n",
       "      <td>True</td>\n",
       "      <td>True</td>\n",
       "      <td>True</td>\n",
       "      <td>1.193303e+06</td>\n",
       "      <td>1.037750e+05</td>\n",
       "      <td>4.968320e+05</td>\n",
       "      <td>3.210000e+02</td>\n",
       "      <td>114.711397</td>\n",
       "      <td>111.061165</td>\n",
       "    </tr>\n",
       "    <tr>\n",
       "      <th>scpl4</th>\n",
       "      <td>True</td>\n",
       "      <td>True</td>\n",
       "      <td>True</td>\n",
       "      <td>2.364401e+06</td>\n",
       "      <td>1.172320e+05</td>\n",
       "      <td>9.673490e+05</td>\n",
       "      <td>2.620000e+02</td>\n",
       "      <td>184.450630</td>\n",
       "      <td>294.894478</td>\n",
       "    </tr>\n",
       "    <tr>\n",
       "      <th>scpm1</th>\n",
       "      <td>True</td>\n",
       "      <td>True</td>\n",
       "      <td>True</td>\n",
       "      <td>5.990141e+06</td>\n",
       "      <td>2.511620e+05</td>\n",
       "      <td>2.447966e+06</td>\n",
       "      <td>5.570000e+02</td>\n",
       "      <td>1667.472845</td>\n",
       "      <td>283.826118</td>\n",
       "    </tr>\n",
       "    <tr>\n",
       "      <th>scpn2</th>\n",
       "      <td>True</td>\n",
       "      <td>True</td>\n",
       "      <td>True</td>\n",
       "      <td>1.193684e+07</td>\n",
       "      <td>2.807630e+05</td>\n",
       "      <td>4.835563e+06</td>\n",
       "      <td>5.160000e+02</td>\n",
       "      <td>2421.766249</td>\n",
       "      <td>758.736420</td>\n",
       "    </tr>\n",
       "    <tr>\n",
       "      <th>sorrell4</th>\n",
       "      <td>True</td>\n",
       "      <td>True</td>\n",
       "      <td>True</td>\n",
       "      <td>0.000000e+00</td>\n",
       "      <td>-2.000000e+00</td>\n",
       "      <td>0.000000e+00</td>\n",
       "      <td>-2.400000e+01</td>\n",
       "      <td>35.084991</td>\n",
       "      <td>257.635021</td>\n",
       "    </tr>\n",
       "    <tr>\n",
       "      <th>sorrell7</th>\n",
       "      <td>True</td>\n",
       "      <td>True</td>\n",
       "      <td>True</td>\n",
       "      <td>0.000000e+00</td>\n",
       "      <td>-1.400000e+02</td>\n",
       "      <td>-6.500000e+01</td>\n",
       "      <td>-1.960000e+02</td>\n",
       "      <td>4.555632</td>\n",
       "      <td>104.628677</td>\n",
       "    </tr>\n",
       "    <tr>\n",
       "      <th>thor50dday</th>\n",
       "      <td>True</td>\n",
       "      <td>True</td>\n",
       "      <td>True</td>\n",
       "      <td>2.041790e+05</td>\n",
       "      <td>2.041790e+05</td>\n",
       "      <td>6.098500e+04</td>\n",
       "      <td>4.041700e+04</td>\n",
       "      <td>4.615768</td>\n",
       "      <td>118.359859</td>\n",
       "    </tr>\n",
       "    <tr>\n",
       "      <th>z26</th>\n",
       "      <td>True</td>\n",
       "      <td>True</td>\n",
       "      <td>True</td>\n",
       "      <td>-1.230000e+02</td>\n",
       "      <td>-9.800000e+02</td>\n",
       "      <td>-7.560000e+02</td>\n",
       "      <td>-1.187000e+03</td>\n",
       "      <td>45.461506</td>\n",
       "      <td>1800.000000</td>\n",
       "    </tr>\n",
       "  </tbody>\n",
       "</table>\n",
       "</div>"
      ],
      "text/plain": [
       "                granular  MCgranular  RANDOMgranular            v0  \\\n",
       "name                                                                 \n",
       "bmocbd3             True        True            True  2.486594e+13   \n",
       "buildingenergy      True        True            True  3.430567e+04   \n",
       "cdc7-4-3-2          True        True            True -1.000000e+00   \n",
       "in                 False        True            True           inf   \n",
       "neos-872648         True        True            True  5.257359e+01   \n",
       "neos-873061         True        True            True  1.524302e+02   \n",
       "opm2-z10-s4         True        True            True -1.489000e+03   \n",
       "opm2-z12-s8         True        True            True -1.678000e+03   \n",
       "opm2-z8-s0          True        True            True -2.220000e+03   \n",
       "ramos3              True        True            True  1.087000e+03   \n",
       "scpk4               True        True            True  1.193303e+06   \n",
       "scpl4               True        True            True  2.364401e+06   \n",
       "scpm1               True        True            True  5.990141e+06   \n",
       "scpn2               True        True            True  1.193684e+07   \n",
       "sorrell4            True        True            True  0.000000e+00   \n",
       "sorrell7            True        True            True  0.000000e+00   \n",
       "thor50dday          True        True            True  2.041790e+05   \n",
       "z26                 True        True            True -1.230000e+02   \n",
       "\n",
       "                       MCobj     RANDOMobj        v_star       MCtime  \\\n",
       "name                                                                    \n",
       "bmocbd3         4.905783e+10  6.128892e+10 -3.729867e+08   504.829239   \n",
       "buildingenergy  3.419647e+04  3.419724e+04  3.328385e+04   107.472898   \n",
       "cdc7-4-3-2     -1.270000e+02 -1.280000e+02 -2.890000e+02  1892.606068   \n",
       "in              4.500000e+02  1.489000e+03  5.800000e+01   482.967552   \n",
       "neos-872648     5.257359e+01  4.877537e+01  4.860791e+01    27.817720   \n",
       "neos-873061     1.524302e+02  1.459778e+02  1.136562e+02    26.675957   \n",
       "opm2-z10-s4    -3.122000e+03 -2.983000e+03 -3.326900e+04    94.154379   \n",
       "opm2-z12-s8    -7.231000e+03 -3.536000e+03 -5.854000e+04   370.097822   \n",
       "opm2-z8-s0     -5.443000e+03 -3.066000e+03 -1.577500e+04    20.710560   \n",
       "ramos3          5.580000e+02  6.300000e+02  1.920000e+02   266.022926   \n",
       "scpk4           1.037750e+05  4.968320e+05  3.210000e+02   114.711397   \n",
       "scpl4           1.172320e+05  9.673490e+05  2.620000e+02   184.450630   \n",
       "scpm1           2.511620e+05  2.447966e+06  5.570000e+02  1667.472845   \n",
       "scpn2           2.807630e+05  4.835563e+06  5.160000e+02  2421.766249   \n",
       "sorrell4       -2.000000e+00  0.000000e+00 -2.400000e+01    35.084991   \n",
       "sorrell7       -1.400000e+02 -6.500000e+01 -1.960000e+02     4.555632   \n",
       "thor50dday      2.041790e+05  6.098500e+04  4.041700e+04     4.615768   \n",
       "z26            -9.800000e+02 -7.560000e+02 -1.187000e+03    45.461506   \n",
       "\n",
       "                MCtimeGurobi  \n",
       "name                          \n",
       "bmocbd3           343.815561  \n",
       "buildingenergy    935.518436  \n",
       "cdc7-4-3-2       1800.000000  \n",
       "in               1800.000000  \n",
       "neos-872648       187.919062  \n",
       "neos-873061       179.521740  \n",
       "opm2-z10-s4       613.549477  \n",
       "opm2-z12-s8      1800.000000  \n",
       "opm2-z8-s0        138.420113  \n",
       "ramos3            211.433069  \n",
       "scpk4             111.061165  \n",
       "scpl4             294.894478  \n",
       "scpm1             283.826118  \n",
       "scpn2             758.736420  \n",
       "sorrell4          257.635021  \n",
       "sorrell7          104.628677  \n",
       "thor50dday        118.359859  \n",
       "z26              1800.000000  "
      ]
     },
     "execution_count": 27,
     "metadata": {},
     "output_type": "execute_result"
    }
   ],
   "source": [
    "res_any_gran.loc[res_any_gran['MCtimeGurobi']>100][['granular','MCgranular','RANDOMgranular',\n",
    "                                                           'v0','MCobj','RANDOMobj','v_star',\n",
    "                                                          'MCtime','MCtimeGurobi']]"
   ]
  },
  {
   "cell_type": "markdown",
   "metadata": {},
   "source": [
    "## Analysis of gap closed"
   ]
  },
  {
   "cell_type": "code",
   "execution_count": 28,
   "metadata": {},
   "outputs": [],
   "source": [
    "res_gran = res_MC.loc[res_MC['granular']]"
   ]
  },
  {
   "cell_type": "code",
   "execution_count": 29,
   "metadata": {},
   "outputs": [
    {
     "data": {
      "text/plain": [
       "136"
      ]
     },
     "execution_count": 29,
     "metadata": {},
     "output_type": "execute_result"
    }
   ],
   "source": [
    "len(res_gran)"
   ]
  },
  {
   "cell_type": "code",
   "execution_count": 30,
   "metadata": {},
   "outputs": [],
   "source": [
    "res_gran_gap = res_gran.loc[res_gran['v0']!=res_gran['v_star']][:]"
   ]
  },
  {
   "cell_type": "markdown",
   "metadata": {},
   "source": [
    "Only instance where we already obtain an optimal point in the root and our ratio is thus not defined"
   ]
  },
  {
   "cell_type": "code",
   "execution_count": 31,
   "metadata": {},
   "outputs": [
    {
     "data": {
      "text/html": [
       "<div>\n",
       "<style scoped>\n",
       "    .dataframe tbody tr th:only-of-type {\n",
       "        vertical-align: middle;\n",
       "    }\n",
       "\n",
       "    .dataframe tbody tr th {\n",
       "        vertical-align: top;\n",
       "    }\n",
       "\n",
       "    .dataframe thead th {\n",
       "        text-align: right;\n",
       "    }\n",
       "</style>\n",
       "<table border=\"1\" class=\"dataframe\">\n",
       "  <thead>\n",
       "    <tr style=\"text-align: right;\">\n",
       "      <th></th>\n",
       "      <th>granular</th>\n",
       "      <th>v0</th>\n",
       "      <th>v0PP</th>\n",
       "      <th>t</th>\n",
       "      <th>tpp</th>\n",
       "      <th>MCgranular</th>\n",
       "      <th>MCtime</th>\n",
       "      <th>MCobj</th>\n",
       "      <th>MCobjPP</th>\n",
       "      <th>MCiterF</th>\n",
       "      <th>...</th>\n",
       "      <th>RANDOMgranular</th>\n",
       "      <th>RANDOMtime</th>\n",
       "      <th>RANDOMobj</th>\n",
       "      <th>RANDOMobjPP</th>\n",
       "      <th>RANDOMiterF</th>\n",
       "      <th>RANDOMdepthO</th>\n",
       "      <th>RANDOMtimeGurobi</th>\n",
       "      <th>RANDOMobjGurobi</th>\n",
       "      <th>v_star</th>\n",
       "      <th>status</th>\n",
       "    </tr>\n",
       "    <tr>\n",
       "      <th>name</th>\n",
       "      <th></th>\n",
       "      <th></th>\n",
       "      <th></th>\n",
       "      <th></th>\n",
       "      <th></th>\n",
       "      <th></th>\n",
       "      <th></th>\n",
       "      <th></th>\n",
       "      <th></th>\n",
       "      <th></th>\n",
       "      <th></th>\n",
       "      <th></th>\n",
       "      <th></th>\n",
       "      <th></th>\n",
       "      <th></th>\n",
       "      <th></th>\n",
       "      <th></th>\n",
       "      <th></th>\n",
       "      <th></th>\n",
       "      <th></th>\n",
       "      <th></th>\n",
       "    </tr>\n",
       "  </thead>\n",
       "  <tbody>\n",
       "    <tr>\n",
       "      <th>p500x2988d</th>\n",
       "      <td>True</td>\n",
       "      <td>6.0</td>\n",
       "      <td>6.0</td>\n",
       "      <td>0.013962</td>\n",
       "      <td>0.003992</td>\n",
       "      <td>True</td>\n",
       "      <td>0.307125</td>\n",
       "      <td>6.0</td>\n",
       "      <td>6.0</td>\n",
       "      <td>0</td>\n",
       "      <td>...</td>\n",
       "      <td>True</td>\n",
       "      <td>0.327303</td>\n",
       "      <td>6.0</td>\n",
       "      <td>6.0</td>\n",
       "      <td>0</td>\n",
       "      <td>0.0</td>\n",
       "      <td>0.07181</td>\n",
       "      <td>6.0</td>\n",
       "      <td>6.0</td>\n",
       "      <td>easy</td>\n",
       "    </tr>\n",
       "  </tbody>\n",
       "</table>\n",
       "<p>1 rows × 23 columns</p>\n",
       "</div>"
      ],
      "text/plain": [
       "            granular   v0  v0PP         t       tpp  MCgranular    MCtime  \\\n",
       "name                                                                        \n",
       "p500x2988d      True  6.0   6.0  0.013962  0.003992        True  0.307125   \n",
       "\n",
       "            MCobj  MCobjPP  MCiterF  ...  RANDOMgranular  RANDOMtime  \\\n",
       "name                                 ...                               \n",
       "p500x2988d    6.0      6.0        0  ...            True    0.327303   \n",
       "\n",
       "            RANDOMobj  RANDOMobjPP  RANDOMiterF  RANDOMdepthO  \\\n",
       "name                                                            \n",
       "p500x2988d        6.0          6.0            0           0.0   \n",
       "\n",
       "            RANDOMtimeGurobi  RANDOMobjGurobi  v_star  status  \n",
       "name                                                           \n",
       "p500x2988d           0.07181              6.0     6.0    easy  \n",
       "\n",
       "[1 rows x 23 columns]"
      ]
     },
     "execution_count": 31,
     "metadata": {},
     "output_type": "execute_result"
    }
   ],
   "source": [
    "res_gran.loc[res_gran['v0']==res_gran['v_star']][:]"
   ]
  },
  {
   "cell_type": "markdown",
   "metadata": {},
   "source": [
    "Minimum value for the denominator (crucial that it is not close to zero)"
   ]
  },
  {
   "cell_type": "code",
   "execution_count": 32,
   "metadata": {},
   "outputs": [
    {
     "data": {
      "text/plain": [
       "0.2634724699999994"
      ]
     },
     "execution_count": 32,
     "metadata": {},
     "output_type": "execute_result"
    }
   ],
   "source": [
    "min(res_gran_gap['v0']-res_gran_gap['v_star'])"
   ]
  },
  {
   "cell_type": "markdown",
   "metadata": {},
   "source": [
    "The value of gap closed is hence well-defined"
   ]
  },
  {
   "cell_type": "code",
   "execution_count": 33,
   "metadata": {},
   "outputs": [],
   "source": [
    "gap_closed_MC = 1-(res_gran_gap['v0']-res_gran_gap['MCobj'])/(res_gran_gap['v0']-res_gran_gap['v_star'])\n",
    "gap_closed_RA = 1-(res_gran_gap['v0']-res_gran_gap['RANDOMobj'])/(res_gran_gap['v0']-res_gran_gap['v_star'])\n",
    "best = [min(gap_closed_MC.iloc[i],gap_closed_RA.iloc[i]) for i in range(0,len(gap_closed_RA))]\n",
    "best = pd.DataFrame(best)\n",
    "best.index = gap_closed_MC.index"
   ]
  },
  {
   "cell_type": "code",
   "execution_count": 34,
   "metadata": {},
   "outputs": [],
   "source": [
    "gaps_closed = pd.concat([gap_closed_MC,gap_closed_RA,best],axis=1)\n",
    "gaps_closed.columns =  ['MC','RA','best']"
   ]
  },
  {
   "cell_type": "code",
   "execution_count": 35,
   "metadata": {},
   "outputs": [
    {
     "data": {
      "image/png": "[encoded data removed]",
      "text/plain": [
       "<Figure size 432x288 with 1 Axes>"
      ]
     },
     "metadata": {
      "needs_background": "light"
     },
     "output_type": "display_data"
    }
   ],
   "source": [
    "MC_heights, MC_bins = np.histogram(gaps_closed['MC'])\n",
    "RA_heights, RA_bins = np.histogram(gaps_closed['RA'], bins=MC_bins)\n",
    "best_heights, best_bins = np.histogram(gaps_closed['best'], bins=MC_bins)\n",
    "\n",
    "width = (MC_bins[1] - MC_bins[0])/4\n",
    "fig, ax = plt.subplots()\n",
    "ax.bar(MC_bins[:-1], np.cumsum(MC_heights), width=width, facecolor='grey')\n",
    "ax.bar(RA_bins[:-1]+width, np.cumsum(RA_heights), width=width, facecolor='silver')\n",
    "ax.bar(RA_bins[:-1]+2*width, np.cumsum(best_heights), width=width, facecolor='black')\n",
    "#ax.set_xlabel('remaining optimality gap')\n",
    "ax.set_xticks([0,.3,.6,.9])\n",
    "ax.set_xticklabels(['[0,0.1)','[0.3,0.4)','[0.6,0.7)','[0.9,1]'])\n",
    "ax.set_ylabel('Instances')\n",
    "ax.set_xlabel('Remaining optimality gap')\n",
    "plt.legend(('Greedy','Random','Best'))\n",
    "fig.savefig('barplot.pdf')"
   ]
  },
  {
   "cell_type": "code",
   "execution_count": 36,
   "metadata": {},
   "outputs": [
    {
     "name": "stdout",
     "output_type": "stream",
     "text": [
      "number of instances where MC closes at least 50% of the gap 48\n",
      "number of instances where RA closes at least 50% of the gap 57\n",
      "number of instances where best closes at least 50% of the gap 70\n",
      "number of instances where MC closes at least 80% of the gap 18\n",
      "number of instances where RA closes at least 80% of the gap 11\n",
      "number of instances where best closes at least 80% of the gap 21\n"
     ]
    }
   ],
   "source": [
    "print(\"number of instances where MC closes at least 50% of the gap\",sum(MC_heights[MC_bins[0:-1]<0.5]))\n",
    "print(\"number of instances where RA closes at least 50% of the gap\",sum(RA_heights[MC_bins[0:-1]<0.5]))\n",
    "print(\"number of instances where best closes at least 50% of the gap\",sum(best_heights[MC_bins[0:-1]<0.5]))\n",
    "print(\"number of instances where MC closes at least 80% of the gap\",MC_heights[0])\n",
    "print(\"number of instances where RA closes at least 80% of the gap\", RA_heights[0])\n",
    "print(\"number of instances where best closes at least 80% of the gap\", best_heights[0])"
   ]
  },
  {
   "cell_type": "markdown",
   "metadata": {},
   "source": [
    "Alternative Darstellung:"
   ]
  },
  {
   "cell_type": "code",
   "execution_count": 35,
   "metadata": {},
   "outputs": [
    {
     "data": {
      "image/png": "[encoded data removed]",
      "text/plain": [
       "<Figure size 432x288 with 1 Axes>"
      ]
     },
     "metadata": {
      "needs_background": "light"
     },
     "output_type": "display_data"
    }
   ],
   "source": [
    "gap_closed_MC = 1-(res_gran_gap['v0']-res_gran_gap['MCobj'])/(res_gran_gap['v0']-res_gran_gap['v_star'])\n",
    "gap_closed_RA = 1-(res_gran_gap['v0']-res_gran_gap['RANDOMobj'])/(res_gran_gap['v0']-res_gran_gap['v_star'])\n",
    "best = [min(gap_closed_MC.iloc[i],gap_closed_RA.iloc[i]) for i in range(0,len(gap_closed_RA))]\n",
    "rem_gap_cdfMC = gap_closed_MC.to_numpy()\n",
    "rem_gap_cdfRA = gap_closed_RA.to_numpy()\n",
    "best = np.array([min(gap_closed_MC.iloc[i],gap_closed_RA.iloc[i]) for i in range(0,len(gap_closed_RA))])\n",
    "rem_gap_cdfMC.sort()\n",
    "rem_gap_cdfRA.sort()\n",
    "best.sort()\n",
    "#rc('ytick', labelsize=11)\n",
    "colors = ['black','grey','silver']\n",
    "#colors = ['black','blue','red','green','red']\n",
    "fig = plt.figure()\n",
    "ax = fig.add_subplot(1, 1, 1)\n",
    "ax.set_xlim(0.1,1)\n",
    "ax.step(np.concatenate([rem_gap_cdfMC, [1]]), np.arange(rem_gap_cdfMC.size+1), label='greedy', color = colors[0])\n",
    "ax.step(np.concatenate([rem_gap_cdfRA, [1]]), np.arange(rem_gap_cdfRA.size+1), \n",
    "        label='random', linestyle = ':', color = colors[2])\n",
    "ax.step(np.concatenate([best, [1]]), np.arange(best.size+1), \n",
    "        label='best', linestyle = '--', color = colors[1])\n",
    "ax.legend()\n",
    "ax.set_xlabel('remaining gap')\n",
    "ax.set_ylabel('Number of Instances')\n",
    "plt.show()\n",
    "fig.savefig('CDF_gap.pdf', bbox_inches='tight')"
   ]
  }
 ],
 "metadata": {
  "kernelspec": {
   "display_name": "Python 3",
   "language": "python",
   "name": "python3"
  },
  "language_info": {
   "codemirror_mode": {
    "name": "ipython",
    "version": 3
   },
   "file_extension": ".py",
   "mimetype": "text/x-python",
   "name": "python",
   "nbconvert_exporter": "python",
   "pygments_lexer": "ipython3",
   "version": "3.7.3"
  }
 },
 "nbformat": 4,
 "nbformat_minor": 2
}
